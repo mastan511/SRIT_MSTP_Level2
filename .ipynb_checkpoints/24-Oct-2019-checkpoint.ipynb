{
 "cells": [
  {
   "cell_type": "markdown",
   "metadata": {},
   "source": [
    "#### Day Objectives\n",
    "### Date : 24-10-2019\n",
    "* File Handling \n",
    "* Problem set on File Handling\n",
    "* Hackererth Practice Test"
   ]
  },
  {
   "cell_type": "code",
   "execution_count": 4,
   "metadata": {},
   "outputs": [
    {
     "name": "stdout",
     "output_type": "stream",
     "text": [
      "Line1 \n",
      "Line2\n",
      "Line3 \n",
      "Line4\n"
     ]
    }
   ],
   "source": [
    "# File\n",
    "#If you want access the data from existing file, here we can 'r' mode\n",
    "def readData(filepath):\n",
    "    with open(filepath,'r') as f:\n",
    "        data = f.read()\n",
    "        print(data)\n",
    "fp = 'DataFiles\\sample.txt'\n",
    "readData(fp)"
   ]
  },
  {
   "cell_type": "code",
   "execution_count": 9,
   "metadata": {},
   "outputs": [],
   "source": [
    "#create function to write the data into the existing file\n",
    "def writingData(filepath):\n",
    "    with open(filepath,'a') as f:\n",
    "        f.write(\"Hello APSSDC\")\n",
    "fp = 'DataFiles\\sample.txt'\n",
    "writingData(fp)\n",
    "\n"
   ]
  },
  {
   "cell_type": "code",
   "execution_count": 14,
   "metadata": {},
   "outputs": [],
   "source": [
    "#Create a function to add data into a new text file\n",
    "def createaFile():\n",
    "    with open('DataFiles\\newfile.txt','a') as f:\n",
    "        f.write(\"Hello APSSDC\")\n",
    "\n",
    "createaFile()"
   ]
  },
  {
   "cell_type": "code",
   "execution_count": null,
   "metadata": {},
   "outputs": [],
   "source": []
  }
 ],
 "metadata": {
  "kernelspec": {
   "display_name": "Python 3",
   "language": "python",
   "name": "python3"
  },
  "language_info": {
   "codemirror_mode": {
    "name": "ipython",
    "version": 3
   },
   "file_extension": ".py",
   "mimetype": "text/x-python",
   "name": "python",
   "nbconvert_exporter": "python",
   "pygments_lexer": "ipython3",
   "version": "3.7.3"
  }
 },
 "nbformat": 4,
 "nbformat_minor": 2
}

{
 "cells": [
  {
   "cell_type": "markdown",
   "metadata": {},
   "source": [
    "## Day Objectives\n",
    "### Date 21-sept-2019\n",
    "* YesterDay Topics Revision\n",
    "* Operators in Python\n",
    "    * Artgemetic Operators(+,-,*,/,%,//,**)\n",
    "    * Assignment operators(=,+=,-=,*=,/=,//=,**=)\n",
    "    * Comparison operators(or)Relational operators(<,<=,>,>=,!=,==)\n",
    "    * Logical operators(and,or,not)\n",
    "    * Identity operators(is,is not)\n",
    "    * Membership operators(in, not in)\n",
    "    * Bitwise operators(&,|,^,~,<<,>>)\n",
    "* Conditional Statements\n",
    "    * If\n",
    "    * If Else\n",
    "    * Nested If\n",
    "  \n",
    "* Loops\n",
    "    * For Loop\n",
    "    * While loop\n"
   ]
  },
  {
   "cell_type": "code",
   "execution_count": 15,
   "metadata": {},
   "outputs": [
    {
     "data": {
      "text/plain": [
       "1"
      ]
     },
     "execution_count": 15,
     "metadata": {},
     "output_type": "execute_result"
    }
   ],
   "source": [
    "#Assignment operators(=,+=,-=,*=,/=,//=,**=)\n",
    "a=10\n",
    "a\n",
    "a+=1 #a=a+1\n",
    "a    #a=11\n",
    "a-=1 #a=a-1\n",
    "a   #a=10\n",
    "a*=2 #a=a*2\n",
    "a    #a=20\n",
    "a/=3 #a=a/3\n",
    "a    #6.666\n",
    "b=20\n",
    "b//=3 #b=b//3\n",
    "b     #b=6\n",
    "b**=2 #b=b**2\n",
    "b\n",
    "b%=5  #b=b%5\n",
    "b"
   ]
  },
  {
   "cell_type": "code",
   "execution_count": 21,
   "metadata": {},
   "outputs": [
    {
     "name": "stdout",
     "output_type": "stream",
     "text": [
      "True\n",
      "True\n",
      "False\n",
      "False\n",
      "True\n",
      "False\n"
     ]
    }
   ],
   "source": [
    "# Comparison operators(or)Relational operators(<,<=,>,>=,!=,==) It returns true or false\n",
    "p=10\n",
    "q=20\n",
    "print(p<q)\n",
    "print(p<=q)\n",
    "print(p>q)\n",
    "print(p>=q)\n",
    "print(p!=q)\n",
    "print(p==q)"
   ]
  },
  {
   "cell_type": "code",
   "execution_count": 30,
   "metadata": {},
   "outputs": [
    {
     "name": "stdout",
     "output_type": "stream",
     "text": [
      "False\n",
      "True\n",
      "False\n"
     ]
    }
   ],
   "source": [
    "# Logical operators(and,or,not)\n",
    "print(10>5 and 2<1)\n",
    "#      1   and  0  => 0\n",
    "print(10<4 or 15>3)\n",
    "#      0   0r  1  =>1\n",
    "a=10\n",
    "print(not(a>5 and a>3))\n",
    "#     not(true)"
   ]
  },
  {
   "cell_type": "code",
   "execution_count": 33,
   "metadata": {},
   "outputs": [
    {
     "name": "stdout",
     "output_type": "stream",
     "text": [
      "2\n",
      "14\n",
      "-11\n"
     ]
    }
   ],
   "source": [
    "# Bitwise operators(&,|,^(X-OR),~,<<,>>)\n",
    "a=10 #\n",
    "b=6\n",
    "#   8 4 2 1\n",
    "# a=1 0 1 0\n",
    "# b=0 1 1 0\n",
    "#   =======\n",
    "# & 0 0 1 0 => 2\n",
    "# | 1 1 1 0 =>14\n",
    "print(a&b)\n",
    "print(a|b)\n",
    "print(~a) # -(a+1) ==>-(10+1)=>-11"
   ]
  },
  {
   "cell_type": "code",
   "execution_count": 34,
   "metadata": {},
   "outputs": [
    {
     "data": {
      "text/plain": [
       "38"
      ]
     },
     "execution_count": 34,
     "metadata": {},
     "output_type": "execute_result"
    }
   ],
   "source": [
    "a=76\n",
    "a>>1"
   ]
  },
  {
   "cell_type": "code",
   "execution_count": 35,
   "metadata": {},
   "outputs": [
    {
     "data": {
      "text/plain": [
       "3"
      ]
     },
     "execution_count": 35,
     "metadata": {},
     "output_type": "execute_result"
    }
   ],
   "source": [
    "a=6\n",
    "a>>1"
   ]
  },
  {
   "cell_type": "code",
   "execution_count": 36,
   "metadata": {},
   "outputs": [
    {
     "data": {
      "text/plain": [
       "1"
      ]
     },
     "execution_count": 36,
     "metadata": {},
     "output_type": "execute_result"
    }
   ],
   "source": [
    "a>>2"
   ]
  },
  {
   "cell_type": "code",
   "execution_count": 39,
   "metadata": {},
   "outputs": [
    {
     "name": "stdout",
     "output_type": "stream",
     "text": [
      "64\n"
     ]
    }
   ],
   "source": [
    "a=8\n",
    "print(a<<3) # value << number of shift"
   ]
  },
  {
   "cell_type": "code",
   "execution_count": 45,
   "metadata": {},
   "outputs": [
    {
     "name": "stdout",
     "output_type": "stream",
     "text": [
      "4 is even number\n"
     ]
    }
   ],
   "source": [
    "# * Conditional Statements\n",
    "#     * if\n",
    "#     * if Else\n",
    "#     * Nested If\n",
    "# if condition:\n",
    "#    statements\n",
    "# 1.To heck wheather it is given number is even number or odd number?\n",
    "#  input : n=10\n",
    "# output : 10 is even number\n",
    "# static way of implemention\n",
    "n=4\n",
    "if n%2==0:\n",
    "    print(\"%d is even number\"%n)"
   ]
  },
  {
   "cell_type": "code",
   "execution_count": 55,
   "metadata": {},
   "outputs": [
    {
     "name": "stdout",
     "output_type": "stream",
     "text": [
      "Welcome\n"
     ]
    }
   ],
   "source": [
    "a=7\n",
    "if a>3:\n",
    "    print(\"Welcome\")\n"
   ]
  },
  {
   "cell_type": "code",
   "execution_count": null,
   "metadata": {},
   "outputs": [],
   "source": [
    "# syntax if if-else:\n",
    "#if-else statment\n",
    "# if condition:\n",
    "#     statement\n",
    "# else:\n",
    "#     statement"
   ]
  },
  {
   "cell_type": "code",
   "execution_count": 58,
   "metadata": {},
   "outputs": [
    {
     "name": "stdout",
     "output_type": "stream",
     "text": [
      "20 is biggest value.\n"
     ]
    }
   ],
   "source": [
    "#Write a python program to find the biggest of two numbers?\n",
    "#input : a=10 b=20\n",
    "#Output: 20 is biggest value.\n",
    "a=10\n",
    "b=20\n",
    "if a>b:\n",
    "    print(\"%d is biggest value.\"%a)\n",
    "else:\n",
    "    print(\"%d is biggest value.\"%b)"
   ]
  },
  {
   "cell_type": "code",
   "execution_count": 59,
   "metadata": {},
   "outputs": [],
   "source": [
    "# Tasks:---\n",
    "#1.write a python program to check wheather it is given number\n",
    "# is positive number or negative number?\n",
    "\n",
    "#2.write a python program to check wheather it is given \n",
    "# two numbers equal or not?\n",
    "\n",
    "#3.write a python program to check wheather it is given year\n",
    "# leap year or not?\n",
    "\n",
    "#4.Write python program to check \n",
    "# if age is greater than 18 print Adult else print child\n",
    "\n",
    "#5.Write a python program to calulate the simple intrest\n"
   ]
  },
  {
   "cell_type": "code",
   "execution_count": 16,
   "metadata": {},
   "outputs": [
    {
     "name": "stdout",
     "output_type": "stream",
     "text": [
      "Enter a number 20\n",
      "Enter b number 30\n",
      "20 30  numbers are\n"
     ]
    }
   ],
   "source": [
    "#Taking input from User\n",
    "# If you want to take the input from the user there is \n",
    "#predefined  method called input()\n",
    "\n",
    "a = int(input(\"Enter a number \"))\n",
    "b = int(input(\"Enter b number \"))\n",
    "print(a,b,\" numbers are\")\n"
   ]
  },
  {
   "cell_type": "markdown",
   "metadata": {},
   "source": []
  },
  {
   "cell_type": "code",
   "execution_count": null,
   "metadata": {},
   "outputs": [],
   "source": [
    "# nested if syntax:-----\n",
    "# if condition: true\n",
    "#     if condition:\n",
    "#         statement\n",
    "n=int(input(\"Enter n value\"))\n",
    "if n>0:\n",
    "    if n%2==0:\n",
    "        print(\"n is even number\")\n",
    "else:\n",
    "    print(\"your entered negative number\")"
   ]
  }
 ],
 "metadata": {
  "kernelspec": {
   "display_name": "Python 3",
   "language": "python",
   "name": "python3"
  },
  "language_info": {
   "codemirror_mode": {
    "name": "ipython",
    "version": 3
   },
   "file_extension": ".py",
   "mimetype": "text/x-python",
   "name": "python",
   "nbconvert_exporter": "python",
   "pygments_lexer": "ipython3",
   "version": "3.7.3"
  }
 },
 "nbformat": 4,
 "nbformat_minor": 2
}

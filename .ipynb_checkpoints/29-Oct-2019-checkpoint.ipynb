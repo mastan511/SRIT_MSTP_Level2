{
 "cells": [
  {
   "cell_type": "markdown",
   "metadata": {},
   "source": [
    "### Day Objectives\n",
    "### Date: 29-10-2019\n",
    "* Data Encryption and Decryption\n",
    "* Numpy "
   ]
  },
  {
   "cell_type": "code",
   "execution_count": 5,
   "metadata": {},
   "outputs": [
    {
     "name": "stdout",
     "output_type": "stream",
     "text": [
      "97\n",
      "122\n",
      "65\n",
      "90\n"
     ]
    }
   ],
   "source": [
    "#Encryption\n",
    "print(ord('a'))\n",
    "print(ord('z'))\n",
    "print(ord('A'))\n",
    "print(ord('Z'))"
   ]
  },
  {
   "cell_type": "code",
   "execution_count": 7,
   "metadata": {},
   "outputs": [
    {
     "data": {
      "text/plain": [
       "'z'"
      ]
     },
     "execution_count": 7,
     "metadata": {},
     "output_type": "execute_result"
    }
   ],
   "source": [
    "chr(97)\n",
    "chr(122)"
   ]
  },
  {
   "cell_type": "code",
   "execution_count": 8,
   "metadata": {},
   "outputs": [
    {
     "name": "stdout",
     "output_type": "stream",
     "text": [
      "a ---> 97\n",
      "b ---> 98\n",
      "c ---> 99\n",
      "d ---> 100\n",
      "e ---> 101\n",
      "f ---> 102\n",
      "g ---> 103\n",
      "h ---> 104\n",
      "i ---> 105\n",
      "j ---> 106\n",
      "k ---> 107\n",
      "l ---> 108\n",
      "m ---> 109\n",
      "n ---> 110\n",
      "o ---> 111\n",
      "p ---> 112\n",
      "q ---> 113\n",
      "r ---> 114\n",
      "s ---> 115\n",
      "t ---> 116\n",
      "u ---> 117\n",
      "v ---> 118\n",
      "w ---> 119\n",
      "x ---> 120\n",
      "y ---> 121\n",
      "z ---> 122\n"
     ]
    }
   ],
   "source": [
    "#Print all lower case alphabets in below format\n",
    "# a ---> 97\n",
    "# .\n",
    "# .\n",
    "# .\n",
    "# z ---> 122\n",
    "for i in range(97,123):\n",
    "    print(chr(i),'--->',i)\n"
   ]
  },
  {
   "cell_type": "code",
   "execution_count": 10,
   "metadata": {},
   "outputs": [
    {
     "name": "stdout",
     "output_type": "stream",
     "text": [
      "A ---> 65\n",
      "B ---> 66\n",
      "C ---> 67\n",
      "D ---> 68\n",
      "E ---> 69\n",
      "F ---> 70\n",
      "G ---> 71\n",
      "H ---> 72\n",
      "I ---> 73\n",
      "J ---> 74\n",
      "K ---> 75\n",
      "L ---> 76\n",
      "M ---> 77\n",
      "N ---> 78\n",
      "O ---> 79\n",
      "P ---> 80\n",
      "Q ---> 81\n",
      "R ---> 82\n",
      "S ---> 83\n",
      "T ---> 84\n",
      "U ---> 85\n",
      "V ---> 86\n",
      "W ---> 87\n",
      "X ---> 88\n",
      "Y ---> 89\n",
      "Z ---> 90\n"
     ]
    }
   ],
   "source": [
    "for i in range(65,91):\n",
    "    print(chr(i),'--->',i)"
   ]
  },
  {
   "cell_type": "code",
   "execution_count": 32,
   "metadata": {},
   "outputs": [
    {
     "name": "stdout",
     "output_type": "stream",
     "text": [
      "Enter message apssdc\n",
      "gvyyji"
     ]
    }
   ],
   "source": [
    "# a - 1\n",
    "# b - 2\n",
    "# c - 3\n",
    "# msg = hi\n",
    "# b_pos = 8+6 = 14\n",
    "# c_pos = 9+6 = 15\n",
    "# no\n",
    "msg = input(\"Enter message \")\n",
    "alphabets = 'abcdefghijklmnopqrstuvwxyz'\n",
    "k = 6\n",
    "for char in msg:\n",
    "    pos = alphabets.find(char)\n",
    "    new_pos = pos+k\n",
    "    if new_pos > 25:\n",
    "        print(alphabets[new_pos-25])\n",
    "    else:\n",
    "        print(alphabets[new_pos],end = \"\")\n",
    "            \n",
    "\n"
   ]
  },
  {
   "cell_type": "code",
   "execution_count": 35,
   "metadata": {},
   "outputs": [
    {
     "name": "stdout",
     "output_type": "stream",
     "text": [
      "Enter message apssdc\n",
      "gvyyji"
     ]
    }
   ],
   "source": [
    "msg = input(\"Enter message \")\n",
    "alphabets = 'abcdefghijklmnopqrstuvwxyz'\n",
    "alphabets = alphabets[::-1]\n",
    "k = 6\n",
    "for char in msg:\n",
    "    pos = alphabets.find(char)\n",
    "    new_pos = pos-k\n",
    "    if new_pos > 25:\n",
    "        print(alphabets[new_pos-25])\n",
    "    else:\n",
    "        print(alphabets[new_pos],end = \"\")"
   ]
  },
  {
   "cell_type": "code",
   "execution_count": 53,
   "metadata": {},
   "outputs": [
    {
     "name": "stdout",
     "output_type": "stream",
     "text": [
      "Enter a Message Z\n",
      " G\n"
     ]
    }
   ],
   "source": [
    "# hi = \n",
    "# h - 104+6 = 110 - n\n",
    "# i - 105+6 = 111 - o\n",
    "msg = input('Enter a Message ')\n",
    "k = 6\n",
    "s = \" \"\n",
    "for i in msg:\n",
    "    if (ord(i)>=97 and ord(i)<=122):\n",
    "        new=(ord(i)+k)\n",
    "        if new>=122:\n",
    "            new=97+(new-122)\n",
    "            s+=chr(new)\n",
    "        else:\n",
    "            s+=chr(new)   \n",
    "    elif ord(i)>=65 and ord(i)<=90:\n",
    "        new1=(ord(i)+k)\n",
    "        if new1>=90:\n",
    "            new1=65+(new1-90)\n",
    "            s+=chr(new1)\n",
    "        else:\n",
    "            s+=chr(new1)\n",
    "print(s)\n",
    "                \n",
    "        \n",
    "    "
   ]
  },
  {
   "cell_type": "code",
   "execution_count": 55,
   "metadata": {},
   "outputs": [],
   "source": [
    "#Marks text file Encyption\n",
    "def generateKeyfile():\n",
    "    with open('DataFiles\\key.txt','w') as f:\n",
    "        for i in range(10):\n",
    "            if i < 6:\n",
    "                f.write(str(i)+\" \"+str(i+4)+\"\\n\")\n",
    "            else:\n",
    "                f.write(str(i)+\" \"+str(i-6)+\"\\n\")\n",
    "generateKeyfile()\n",
    "                "
   ]
  },
  {
   "cell_type": "code",
   "execution_count": 66,
   "metadata": {},
   "outputs": [
    {
     "data": {
      "text/plain": [
       "{'0': '4',\n",
       " '1': '5',\n",
       " '2': '6',\n",
       " '3': '7',\n",
       " '4': '8',\n",
       " '5': '9',\n",
       " '6': '0',\n",
       " '7': '1',\n",
       " '8': '2',\n",
       " '9': '3'}"
      ]
     },
     "execution_count": 66,
     "metadata": {},
     "output_type": "execute_result"
    }
   ],
   "source": [
    "def read_key(keyfilepath):\n",
    "    d = {}\n",
    "    with open(keyfilepath,'r') as f:\n",
    "        data = f.readlines()\n",
    "        for line in data:\n",
    "            l = line.split()\n",
    "            #print(l[0],\"-->\",l[1])\n",
    "            d[l[0]] = l[1]\n",
    "        return d\n",
    "read_key('DataFiles\\key.txt')"
   ]
  },
  {
   "cell_type": "code",
   "execution_count": 121,
   "metadata": {},
   "outputs": [
    {
     "name": "stdout",
     "output_type": "stream",
     "text": [
      "11\n",
      "27\n",
      "60\n",
      "59\n",
      "39\n"
     ]
    }
   ],
   "source": [
    "def read_marks(mfilepath,kfilepath):\n",
    "    k = read_key(kfilepath)\n",
    "    with open(mfilepath,'r') as f:\n",
    "        marks = f.readlines()\n",
    "        for m in marks:\n",
    "            mm = m.split()\n",
    "            l = mm[0]\n",
    "            m1 = l[0]\n",
    "            m2 = l[1]\n",
    "            s = \"\"\n",
    "            for item in k.items():\n",
    "                for i in item[0]:\n",
    "                    if m1 == i:\n",
    "                        #print(item[1])\n",
    "                        s+=item[1]\n",
    "            for item1 in k.items():\n",
    "                for j in item1[0]:\n",
    "                    if m2 == j:\n",
    "                        #print(item1[1])\n",
    "                        s+=item1[1]\n",
    "            print(s)\n",
    "            with open('DataFiles\\enc.txt','a') as g:\n",
    "                g.write(str(s)+'\\n')\n",
    "            \n",
    "                \n",
    "            \n",
    "                \n",
    "                        \n",
    "read_marks('DataFiles\\marks.txt','DataFiles\\key.txt')\n",
    "# with open('DataFiles\\enc.txt','a') as g:\n",
    "#     g.write(str(a))"
   ]
  },
  {
   "cell_type": "code",
   "execution_count": null,
   "metadata": {},
   "outputs": [],
   "source": []
  },
  {
   "cell_type": "code",
   "execution_count": null,
   "metadata": {},
   "outputs": [],
   "source": []
  }
 ],
 "metadata": {
  "kernelspec": {
   "display_name": "Python 3",
   "language": "python",
   "name": "python3"
  },
  "language_info": {
   "codemirror_mode": {
    "name": "ipython",
    "version": 3
   },
   "file_extension": ".py",
   "mimetype": "text/x-python",
   "name": "python",
   "nbconvert_exporter": "python",
   "pygments_lexer": "ipython3",
   "version": "3.7.3"
  }
 },
 "nbformat": 4,
 "nbformat_minor": 2
}
